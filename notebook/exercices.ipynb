{
 "cells": [
  {
   "cell_type": "code",
   "execution_count": 3,
   "metadata": {},
   "outputs": [],
   "source": [
    "class imputer():\n",
    "    def __init__(self) :\n",
    "        self.liste_cor=[]\n",
    "\n",
    "    def avg(self,liste):\n",
    "        somme=0\n",
    "        nb_occur=0\n",
    "        for valeur in liste :\n",
    "            if valeur != None :\n",
    "                somme += valeur\n",
    "                nb_occur += 1\n",
    "        # on calcule la moyenne de la liste\n",
    "        moyenne=somme / nb_occur\n",
    "        # on construit la liste finale\n",
    "        for elt in liste :\n",
    "            if elt == None : \n",
    "                self.liste_cor.append(moyenne)\n",
    "            else :\n",
    "                self.liste_cor.append(elt)\n",
    "    \n",
    "    \n",
    "    def median(self,liste):\n",
    "        l_valeurs=sorted([x for x in liste if x != None])\n",
    "        effectifs=len(l_valeurs)\n",
    "        if effectifs % 2 == 0:\n",
    "            mediane=(l_valeurs[effectifs//2 - 1] + l_valeurs[effectifs//2]) / 2\n",
    "        else :\n",
    "            mediane=l_valeurs[effectifs//2]\n",
    "        # construction de la liste transformée\n",
    "        for elt in liste :\n",
    "            if elt == None : \n",
    "                self.liste_cor.append(mediane)\n",
    "            else :\n",
    "                self.liste_cor.append(elt)\n",
    "    \n",
    "        \n",
    "    def display_cor(self) : \n",
    "        print(f'liste corrigée : {self.liste_cor}')\n",
    "                \n",
    "    \n",
    "       \n"
   ]
  },
  {
   "cell_type": "code",
   "execution_count": 4,
   "metadata": {},
   "outputs": [
    {
     "name": "stdout",
     "output_type": "stream",
     "text": [
      "liste corrigée : [4, 2, 4, 6, 4]\n"
     ]
    }
   ],
   "source": [
    "list1= [None,2,4,6,None]\n",
    "\n",
    "imp=imputer()\n",
    "imp.median(list1)\n",
    "imp.display_cor()\n",
    "\n"
   ]
  },
  {
   "cell_type": "code",
   "execution_count": 31,
   "metadata": {},
   "outputs": [
    {
     "name": "stdout",
     "output_type": "stream",
     "text": [
      "Voici notre quiz, tu as trois chances !\n",
      "Bravo ! Tu as gagné le quiz !\n"
     ]
    }
   ],
   "source": [
    "nb_de_chances = 3\n",
    "\n",
    "print(\"Voici notre quiz, tu as trois chances !\")\n",
    "\n",
    "if nb_de_chances > 0:\n",
    "    question1= input(\"Combien de fois la France a gagné la coupe du monde ? \")\n",
    "    while question1 != \"2\":\n",
    "        nb_de_chances -= 1\n",
    "        print(\"Dommage ! Il te reste {} chances\".format(nb_de_chances))\n",
    "        if nb_de_chances == 0:\n",
    "            print(\"Oh non ! Tu as perdu le jeu...\")\n",
    "            break\n",
    "        question1 = input(\"Combien de fois la France a gagné la coupe du monde ? \")\n",
    "\n",
    "if nb_de_chances > 0:\n",
    "    question2 = input(\"Quand a été fondé Apple ? \")\n",
    "    while question2 != \"1976\":\n",
    "        nb_de_chances -=1\n",
    "        print(\"Dommage ! Il te reste {} chances\".format(nb_de_chances))\n",
    "        if nb_de_chances == 0:\n",
    "            print(\"Oh non ! Tu as perdu le jeu...\")\n",
    "            break\n",
    "        question2 = input(\"Quand a été fondé Apple ? \")\n",
    "\n",
    "\n",
    "if nb_de_chances > 0:\n",
    "    question3 = input(\"Qui a fondé SpaceX ? \")\n",
    "    question3 = question3.lower()\n",
    "    while question3 != \"elon musk\":\n",
    "        nb_de_chances -=1\n",
    "        print(\"Dommage ! Il te reste {} chances\".format(nb_de_chances))\n",
    "        if nb_de_chances == 0:\n",
    "            print(\"Oh non ! Tu as perdu le jeu...\")\n",
    "            break\n",
    "        question3 = input(\"Qui a fondé SpaceX ? \")\n",
    "        question3 = question3.lower()\n",
    "\n",
    "if nb_de_chances > 0:\n",
    "    print(\"Bravo ! Tu as gagné le quiz !\")"
   ]
  },
  {
   "cell_type": "code",
   "execution_count": 13,
   "metadata": {},
   "outputs": [],
   "source": [
    "def quiz(chances, question, reponse):\n",
    "    if chances > 0 :\n",
    "        r_user=input(question)\n",
    "        r_user=str(r_user).lower()\n",
    "        reponse=str(reponse).lower()\n",
    "        while r_user != reponse :\n",
    "            chances -= 1\n",
    "            print(f\"dommage, il te reste {chances} essais\")\n",
    "            if chances == 0 : \n",
    "                print(\"perdu\")\n",
    "                break\n",
    "            r_user=input(question)\n",
    "            r_user=str(r_user).lower()\n",
    "    if chances > 0 :\n",
    "        print(\"bravo\")\n"
   ]
  },
  {
   "cell_type": "markdown",
   "metadata": {},
   "source": []
  },
  {
   "cell_type": "code",
   "execution_count": 15,
   "metadata": {},
   "outputs": [
    {
     "name": "stdout",
     "output_type": "stream",
     "text": [
      "elon musk\n",
      "dommage, il te reste 2 essais\n",
      "bravo\n"
     ]
    }
   ],
   "source": [
    "quiz(chances=3, question=\"Qui a fondé SpaceX ?\", reponse=\"Elon Musk\")"
   ]
  }
 ],
 "metadata": {
  "kernelspec": {
   "display_name": "base",
   "language": "python",
   "name": "python3"
  },
  "language_info": {
   "codemirror_mode": {
    "name": "ipython",
    "version": 3
   },
   "file_extension": ".py",
   "mimetype": "text/x-python",
   "name": "python",
   "nbconvert_exporter": "python",
   "pygments_lexer": "ipython3",
   "version": "3.12.4"
  }
 },
 "nbformat": 4,
 "nbformat_minor": 2
}
