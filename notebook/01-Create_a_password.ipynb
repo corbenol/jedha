{
  "cells": [
    {
      "cell_type": "markdown",
      "metadata": {
        "colab_type": "text",
        "id": "FY347VxWs_bJ"
      },
      "source": [
        "# Create a password\n",
        "\n",
        "---\n",
        "\n",
        "\n"
      ]
    },
    {
      "cell_type": "markdown",
      "metadata": {
        "colab_type": "text",
        "id": "tNmCNKUa0c9-"
      },
      "source": [
        "We would like to create a password for JEDHA\n",
        "\n",
        "    1. Using a WHILE loop, find a way to create a very simple authentication script"
      ]
    },
    {
      "cell_type": "code",
      "execution_count": 5,
      "metadata": {
        "colab": {
          "base_uri": "https://localhost:8080/",
          "height": 35
        },
        "colab_type": "code",
        "id": "adKPQe1Hsi2g",
        "outputId": "11b3e356-10d5-47b0-edae-1e566ea77bb3"
      },
      "outputs": [
        {
          "name": "stdout",
          "output_type": "stream",
          "text": [
            "You have the right password!\n"
          ]
        }
      ],
      "source": [
        "pwd=\"olivier\"\n",
        "inp=input(\"saisissez votre mdp\")\n",
        "while inp != pwd:\n",
        "        print(\"mdp incorrect\")\n",
        "        inp=input(\"saisissez votre mdp\")\n",
        "        "
      ]
    },
    {
      "cell_type": "code",
      "execution_count": null,
      "metadata": {
        "colab": {},
        "colab_type": "code",
        "id": "LV_ACPSXs3pg"
      },
      "outputs": [],
      "source": []
    }
  ],
  "metadata": {
    "colab": {
      "name": "Faire un mot de passe -- S1-1A.ipynb",
      "provenance": [],
      "version": "0.3.2"
    },
    "kernelspec": {
      "display_name": "Python 3",
      "name": "python3"
    }
  },
  "nbformat": 4,
  "nbformat_minor": 0
}
